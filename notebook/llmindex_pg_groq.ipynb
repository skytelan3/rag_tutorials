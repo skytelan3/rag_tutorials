{
 "cells": [
  {
   "cell_type": "markdown",
   "id": "aba06953-0b0b-45f0-ad09-dd43c69f3172",
   "metadata": {},
   "source": [
    "# Building RAG from Scratch\n",
    "https://docs.llamaindex.ai/en/stable/examples/low_level/oss_ingestion_retrieval/"
   ]
  },
  {
   "cell_type": "markdown",
   "id": "64d104cb-7052-4b17-b6db-2233778fce3b",
   "metadata": {},
   "source": [
    "## Model Define"
   ]
  },
  {
   "cell_type": "code",
   "execution_count": 2,
   "id": "0e9d01a9-d4f5-410d-a3e8-5190410587f6",
   "metadata": {},
   "outputs": [],
   "source": [
    "SENTENCE_TRANSFORMER = 'sentence-transformers/all-MiniLM-L6-v2'\n",
    "LLM = 'llama3-70b-8192'\n",
    "LLM_API_KEY = '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'\n",
    "DOCUMENT = '../data/llama2.pdf'"
   ]
  },
  {
   "cell_type": "markdown",
   "id": "ba8e326e-81a6-405d-b81f-7d6473deb9e5",
   "metadata": {},
   "source": [
    "## Load Model"
   ]
  },
  {
   "cell_type": "code",
   "execution_count": 3,
   "id": "ff261081-aa98-49fa-b9e2-c5ee1559d75a",
   "metadata": {},
   "outputs": [
    {
     "name": "stderr",
     "output_type": "stream",
     "text": [
      "/home/telan3/miniconda3/envs/rag_tutorials/lib/python3.10/site-packages/tqdm/auto.py:21: TqdmWarning: IProgress not found. Please update jupyter and ipywidgets. See https://ipywidgets.readthedocs.io/en/stable/user_install.html\n",
      "  from .autonotebook import tqdm as notebook_tqdm\n",
      "/home/telan3/miniconda3/envs/rag_tutorials/lib/python3.10/site-packages/huggingface_hub/file_download.py:1132: FutureWarning: `resume_download` is deprecated and will be removed in version 1.0.0. Downloads always resume when possible. If you want to force a new download, use `force_download=True`.\n",
      "  warnings.warn(\n"
     ]
    }
   ],
   "source": [
    "# sentence transformers\n",
    "from llama_index.embeddings.huggingface import HuggingFaceEmbedding\n",
    "from llama_index.llms.groq import Groq\n",
    "\n",
    "embed_model = HuggingFaceEmbedding(model_name=SENTENCE_TRANSFORMER)\n",
    "llm = Groq(model=LLM, api_key=LLM_API_KEY)"
   ]
  },
  {
   "cell_type": "markdown",
   "id": "0e25213e-2cd8-40b7-af81-1a49494a1cc5",
   "metadata": {},
   "source": [
    "## Initialize Postgres"
   ]
  },
  {
   "cell_type": "code",
   "execution_count": 4,
   "id": "5fab5e19-9201-4ad3-99c7-96930a6e3ecf",
   "metadata": {},
   "outputs": [],
   "source": [
    "import psycopg2\n",
    "\n",
    "db_name = \"vector_db\"\n",
    "host = \"localhost\"\n",
    "password = \"watchtek\"\n",
    "port = \"5432\"\n",
    "user = \"watchtek\"\n",
    "conn = psycopg2.connect(\n",
    "    dbname=\"postgres\",\n",
    "    host=host,\n",
    "    password=password,\n",
    "    port=port,\n",
    "    user=user,\n",
    ")\n",
    "conn.autocommit = True\n",
    "\n",
    "with conn.cursor() as c:\n",
    "    c.execute(f\"DROP DATABASE IF EXISTS {db_name}\")\n",
    "    c.execute(f\"CREATE DATABASE {db_name}\")"
   ]
  },
  {
   "cell_type": "code",
   "execution_count": 5,
   "id": "82370c94-c430-4ae0-805c-c1a9acbcf5e5",
   "metadata": {},
   "outputs": [],
   "source": [
    "from sqlalchemy import make_url\n",
    "from llama_index.vector_stores.postgres import PGVectorStore\n",
    "\n",
    "vector_store = PGVectorStore.from_params(\n",
    "    database=db_name,\n",
    "    host=host,\n",
    "    password=password,\n",
    "    port=port,\n",
    "    user=user,\n",
    "    table_name=\"llama2_paper\",\n",
    "    embed_dim=384,  # openai embedding dimension\n",
    ")"
   ]
  },
  {
   "cell_type": "markdown",
   "id": "e1d92cf0-9635-4bdb-abe6-0279f7c4867e",
   "metadata": {},
   "source": [
    "## Build an Ingestion Pipeline from Scratch"
   ]
  },
  {
   "cell_type": "markdown",
   "id": "aafef64f-f852-464d-a157-f29693c5e521",
   "metadata": {},
   "source": [
    "### 1. Load Data"
   ]
  },
  {
   "cell_type": "code",
   "execution_count": 6,
   "id": "32bdaacd-35ef-44ab-b736-67789a00e0e3",
   "metadata": {},
   "outputs": [],
   "source": [
    "from pathlib import Path\n",
    "from llama_index.readers.file import PyMuPDFReader\n",
    "loader = PyMuPDFReader()\n",
    "documents = loader.load(file_path=DOCUMENT)"
   ]
  },
  {
   "cell_type": "markdown",
   "id": "27b13282-f7ca-4d43-ae15-cbcac9de513f",
   "metadata": {},
   "source": [
    "### 2. Use a Text Splitter to Split Documents"
   ]
  },
  {
   "cell_type": "code",
   "execution_count": 7,
   "id": "4b525025-ab04-40d1-b7b6-52407ff10730",
   "metadata": {},
   "outputs": [],
   "source": [
    "from llama_index.core.node_parser import SentenceSplitter\n",
    "text_parser = SentenceSplitter(\n",
    "    chunk_size=1024,\n",
    "    # separator=\" \",\n",
    ")"
   ]
  },
  {
   "cell_type": "code",
   "execution_count": 8,
   "id": "57950cec-028b-40e8-8361-c9ff960295fb",
   "metadata": {},
   "outputs": [],
   "source": [
    "text_chunks = []\n",
    "# maintain relationship with source doc index, to help inject doc metadata in (3)\n",
    "doc_idxs = []\n",
    "for doc_idx, doc in enumerate(documents):\n",
    "    cur_text_chunks = text_parser.split_text(doc.text)\n",
    "    text_chunks.extend(cur_text_chunks)\n",
    "    doc_idxs.extend([doc_idx] * len(cur_text_chunks))"
   ]
  },
  {
   "cell_type": "markdown",
   "id": "40aab675-a2f9-49c0-a2e3-b88e84f4d7ba",
   "metadata": {},
   "source": [
    "### 3. Manually Construct Nodes from Text Chunks"
   ]
  },
  {
   "cell_type": "code",
   "execution_count": 9,
   "id": "77f35ab5-cdea-45ba-839b-2f17167b198e",
   "metadata": {},
   "outputs": [],
   "source": [
    "from llama_index.core.schema import TextNode\n",
    "\n",
    "nodes = []\n",
    "for idx, text_chunk in enumerate(text_chunks):\n",
    "    node = TextNode(\n",
    "        text=text_chunk,\n",
    "    )\n",
    "    src_doc = documents[doc_idxs[idx]]\n",
    "    node.metadata = src_doc.metadata\n",
    "    nodes.append(node)"
   ]
  },
  {
   "cell_type": "markdown",
   "id": "638498c1-d73c-4336-8188-7e570e46d042",
   "metadata": {},
   "source": [
    "### 4. Generate Embeddings for each Node"
   ]
  },
  {
   "cell_type": "code",
   "execution_count": 10,
   "id": "355a1c07-b9a4-4df3-90e5-618dec3db403",
   "metadata": {},
   "outputs": [],
   "source": [
    "for node in nodes:\n",
    "    node_embedding = embed_model.get_text_embedding(\n",
    "        node.get_content(metadata_mode=\"all\")\n",
    "    )\n",
    "    node.embedding = node_embedding"
   ]
  },
  {
   "cell_type": "markdown",
   "id": "4b62b54c-cd57-4d6f-8f3b-0882582c3254",
   "metadata": {},
   "source": [
    "### 5. Load Nodes into a Vector Store"
   ]
  },
  {
   "cell_type": "code",
   "execution_count": 11,
   "id": "b39e2034-491a-4277-b9e0-3ff27c779dad",
   "metadata": {
    "scrolled": true
   },
   "outputs": [
    {
     "data": {
      "text/plain": [
       "['ff4123c6-70b1-4610-b197-d092c5e735e2',\n",
       " 'a8933268-99b9-40f8-a113-3f9defac8892',\n",
       " '41441b8c-bcba-4cb5-b95d-77c9f58992fe',\n",
       " '6fbf587c-aaf6-4ceb-bcdb-acdb9173cb31',\n",
       " '97bcc565-6323-4258-aa8a-c2d067c7a078',\n",
       " 'f35b8cf1-e8a4-4e5d-aedd-a6f400e7e065',\n",
       " 'a57e4c07-54a2-4a75-a6d3-09fd4b91f23e',\n",
       " 'dbe825c6-0601-46c9-b577-16871884eb97',\n",
       " 'a9ce81a1-3067-480f-a695-9cb384ae82ab',\n",
       " 'e0f05157-a246-4133-8cd7-315ea84dc615',\n",
       " 'a3f36b54-acc5-4b08-9978-1ade12d657df',\n",
       " '83e837ab-9dbe-4180-a0d0-8251fe08ed1a',\n",
       " 'ffa24fee-d089-42f5-959d-7ed8829ea928',\n",
       " '870c07d5-18b0-4a95-8a00-6426a07422a1',\n",
       " '6c685d08-c2e1-48c5-8a81-47b37b29ae1e',\n",
       " 'fc00a99f-bf1f-4878-99c7-2d544c2af443',\n",
       " 'e64e2813-024b-4063-bc31-4e4f2c6f016c',\n",
       " 'ac065e82-24cc-43ff-be4f-96895f67c418',\n",
       " '842299f9-f138-4898-ad98-632a88516d49',\n",
       " '223a0df0-2b05-49e1-8dc6-70b4641168d9',\n",
       " 'c68b3b51-e4b3-4508-9418-e7a7da8c3d5b',\n",
       " 'ebc5574d-b95c-4578-89bc-424b9fbec351',\n",
       " 'e265cc43-9955-4eb2-a933-31a9266c472b',\n",
       " 'ad1028b8-2934-4fc0-b9a3-1ef0048779e4',\n",
       " '8dc5ab37-7084-4006-a1f2-85aff0374c70',\n",
       " '3f6293ed-1f99-41ed-9749-0ed36ada8ef7',\n",
       " 'ce07e567-cce2-4d57-aa7d-beabe9a4e72d',\n",
       " '336fea41-a3f4-4ab2-acb2-01edae0da5f3',\n",
       " '3c247d78-fcca-4526-8813-c462c6a7c507',\n",
       " '4f90d869-6bf5-4be6-a3b8-97852cbd01ca',\n",
       " 'd120f7c1-4d95-4f77-a28e-6be4466f7caf',\n",
       " '95b7a28f-7cda-4338-a7fd-378a94c94afe',\n",
       " '7b79ae8d-5078-4f64-a47c-78e913c46021',\n",
       " '44d438a1-e60e-47de-9443-dfcc1eaaf3d0',\n",
       " '7d6c2981-ad2b-43b0-9ab4-1762d0781650',\n",
       " '42594cd9-474f-49e7-aff0-2a15276778ce',\n",
       " 'a34618e8-98d5-4356-9f0f-29251daf55c7',\n",
       " '9da9adc5-3d48-4fa1-b298-915cd35d57c8',\n",
       " 'a8e6c605-4ff1-4144-96da-277034caabc8',\n",
       " '139e26a4-5060-4f9c-8031-1342f8c488ed',\n",
       " '2d6955de-859e-42e5-8d7a-de3a0c3ffa70',\n",
       " 'fb552fa7-e0c8-457c-8b33-8a0c8280a5af',\n",
       " 'f494a7e1-f67c-49e6-8e5b-6a96bb7ce4da',\n",
       " 'aeaca23d-0636-4be9-831e-1239051cfb5f',\n",
       " '37b8b6ec-5e08-44f9-be2e-c14e6a69c39a',\n",
       " '1647255f-3042-4fbd-ad60-4c88a579ba69',\n",
       " '059ddd6a-04db-4cf2-9308-e352bd591654',\n",
       " '78ad3d8a-0efe-48f5-890d-a5a0bd48f33b',\n",
       " '16958360-d881-42f2-b332-837e2d2889cf',\n",
       " '251e7bca-8d46-4223-be9c-d38f3134ba5a',\n",
       " 'df43a702-2ad3-479a-864f-9eddca143be6',\n",
       " 'e1157e67-8a87-424d-839e-d15991246cd6',\n",
       " '61d17938-1d0e-47ab-b2de-f2ad73275fcc',\n",
       " '645c838e-499b-470d-9a94-6b42e1a8d17e',\n",
       " '90da9bcc-7cdf-4ebe-9161-2271259d1318',\n",
       " '25937aa3-6979-4c44-972c-859db8ea98c6',\n",
       " '9e22019f-acf6-420d-8653-481df5c030d3',\n",
       " '9c77dc5a-074e-44b7-9679-b11a3da3a8c5',\n",
       " '0ee34078-50f2-4d19-a150-0db37e8c1a6f',\n",
       " '05634001-8c68-4ac0-b98e-c89fd40bc598',\n",
       " '59ad5cea-c492-41d0-a45d-c41278a95612',\n",
       " '4a1c9e9b-248e-44bc-9819-e58ccd38f21c',\n",
       " '9787684e-307c-42e0-8660-8126eb2461f3',\n",
       " '41c76edc-874c-4801-9595-3e44e4deb34e',\n",
       " '553b05cd-442f-446c-aeab-767511e301ba',\n",
       " '72d946c9-0b90-4a56-8d84-f158eee0b2c2',\n",
       " '8d8c80b0-525e-496c-833a-24ca566f4cfb',\n",
       " '02e02b30-c009-4f1f-ae5d-059bf1cbd5d7',\n",
       " 'aa05183a-b8a4-437a-a4aa-e6fcce9acc4d',\n",
       " '3bd775f3-7cf7-4c14-b6b9-61dadc5588b8',\n",
       " '40b60f9d-5b03-4ae2-9430-533c77f6eec6',\n",
       " '60375e12-7839-43d3-a3d4-dc1f657fa574',\n",
       " '97432736-d0d9-40ed-b465-f336135d2445',\n",
       " '5cea4598-44e5-400d-be33-294bd7523ee8',\n",
       " '606a0fd9-57eb-4c8a-a857-649d3c1eb3c5',\n",
       " '743fa72f-4833-4590-adc3-24eeb0664ccf',\n",
       " '7075c4a7-9225-49cc-961e-50bd3d89fa81',\n",
       " '229ad47c-bc9a-4ae1-a16c-2362dc38ea1d',\n",
       " 'c95ed891-a12a-4eb0-bbbb-b34dcfaae82f',\n",
       " '82b050cb-1e8f-4394-890e-5d7957616822',\n",
       " 'ce65e1d6-2a45-45b8-a513-bb20c6145aca',\n",
       " '1b8c49d2-d2a6-4d57-8bf1-01fd76581fbd',\n",
       " '3c029696-6b13-4e8b-b3eb-a8dfc14711d9',\n",
       " 'b9737bc2-6969-4b94-9110-8a70050a1e86',\n",
       " 'ac457877-0e32-4a73-a63e-429f11a5958b',\n",
       " '042b6c20-b79d-4c4e-b0bc-c8d53c0bdeec',\n",
       " '2a560ffb-1005-4085-8893-236e4d47d761',\n",
       " 'a022579f-b7c1-49bc-8912-48e56a98a608',\n",
       " 'b10c5c62-7f9d-4b7b-9f13-e9fea1774581',\n",
       " 'd8d0a16f-2863-4949-a6cb-314297962139',\n",
       " '9537f03b-58f2-4279-8ac0-932446a58f24',\n",
       " '726bd027-c6c0-4abc-8a2a-a8d975e2856a',\n",
       " '1c968e1a-c883-4957-8c71-b18a1912752b',\n",
       " '9781efac-41ac-460e-b74c-f55a7703b64e',\n",
       " '2cde9db1-07fd-41a1-ab4e-c20d4d939b3e',\n",
       " '9d3a026d-e031-45dd-a882-bb44120fb166',\n",
       " '9c802828-c643-4fa6-a5a1-4e20fe978c32',\n",
       " 'd3d96d6d-02d9-4037-a1bc-6e4b594015a1',\n",
       " '90df6d4f-39fe-4c97-820f-d56de70f9a70',\n",
       " 'd464858e-0d23-4ecf-8db9-a17a5e9ac83a',\n",
       " 'dc95ea03-a1b4-4f70-82f2-bcd7c97a62da',\n",
       " 'f671a517-9f12-4184-be0f-07dd78d7d8ed',\n",
       " '78f243c3-a330-4ee7-b68d-10c09930986e',\n",
       " 'c8d01dd2-6928-465e-bb99-45bb2c5a7c72',\n",
       " 'd8c63138-04fa-4f21-b1a3-6aa362d2071d',\n",
       " 'eb3fe102-c54b-464a-a7f2-7ef702be6614',\n",
       " '47823c54-a561-46df-ae44-01539c3c0d07']"
      ]
     },
     "execution_count": 11,
     "metadata": {},
     "output_type": "execute_result"
    }
   ],
   "source": [
    "vector_store.add(nodes)"
   ]
  },
  {
   "cell_type": "markdown",
   "id": "e90603d1-db9f-4ace-8cdd-2f9cfdc82b28",
   "metadata": {},
   "source": [
    "## Build Retrieval Pipeline from Scratch"
   ]
  },
  {
   "cell_type": "code",
   "execution_count": 14,
   "id": "e11cbaef-3733-46fa-864b-d72a660f86fb",
   "metadata": {},
   "outputs": [],
   "source": [
    "query_str = \"Can you tell me about the key concepts for safety finetuning\""
   ]
  },
  {
   "cell_type": "markdown",
   "id": "62535519-1b8c-459b-9db0-1d3baddcbc92",
   "metadata": {},
   "source": [
    "### 1. Generate a Query Embedding"
   ]
  },
  {
   "cell_type": "code",
   "execution_count": 15,
   "id": "652534ea-4163-4dd6-b2a8-9b70b443b4d1",
   "metadata": {},
   "outputs": [],
   "source": [
    "query_embedding = embed_model.get_query_embedding(query_str)"
   ]
  },
  {
   "cell_type": "markdown",
   "id": "189d79d1-795c-466c-bb80-e0e7df9d79d4",
   "metadata": {},
   "source": [
    "### 2. Query the Vector Database"
   ]
  },
  {
   "cell_type": "code",
   "execution_count": 16,
   "id": "2c9a1a47-2384-4fe7-b4ed-39f5aba7af1f",
   "metadata": {},
   "outputs": [],
   "source": [
    "# construct vector store query\n",
    "from llama_index.core.vector_stores import VectorStoreQuery\n",
    "\n",
    "query_mode = \"default\"\n",
    "# query_mode = \"sparse\"\n",
    "# query_mode = \"hybrid\"\n",
    "\n",
    "vector_store_query = VectorStoreQuery(\n",
    "    query_embedding=query_embedding, similarity_top_k=2, mode=query_mode\n",
    ")"
   ]
  },
  {
   "cell_type": "code",
   "execution_count": 17,
   "id": "f3704599-86af-41ce-b993-688e5f86c66e",
   "metadata": {
    "scrolled": true
   },
   "outputs": [
    {
     "name": "stdout",
     "output_type": "stream",
     "text": [
      "4\n",
      "Safety\n",
      "WARNING: this section contains examples of text that may be considered unsafe, offensive, or upsetting.\n",
      "In this section, we dive deeper into the important topic of safety measurements and mitigations. We first\n",
      "discuss our safety investigations into pretraining data and pretrained models (Section 4.1). Next, we describe\n",
      "the process of our safety alignment (Section 4.2), explaining how we collected safety-related annotations and\n",
      "utilized SFT and RLHF, and present experimental results. Then, we discuss the red teaming we performed to\n",
      "further understand and improve model safety (Section 4.3). Finally, we present quantitative safety evaluations\n",
      "of Llama 2-Chat (Section 4.4). We also share a model card in the Appendix, in Table 52.\n",
      "4.1\n",
      "Safety in Pretraining\n",
      "It is important to understand what is in the pretraining data both to increase transparency and to shed\n",
      "light on root causes of potential downstream issues, such as potential biases. This can inform what, if any,\n",
      "downstream mitigations to consider, and help guide appropriate model use. In this section, we analyze the\n",
      "pretraining data for distributions of languages, demographic representations, and toxicity. We also present\n",
      "the results of testing the pretrained models on existing safety benchmarks.\n",
      "Steps Taken to Pretrain Responsibly.\n",
      "We followed Meta’s standard privacy and legal review processes for\n",
      "each dataset used in training. We did not use any Meta user data in training. We excluded data from certain\n",
      "sites known to contain a high volume of personal information about private individuals. We made a best\n",
      "effort to train our models efficiently to reduce the carbon footprint of pretraining (Section 2.2.1). Sharing our\n",
      "models broadly will reduce the need for others to train similar models. No additional filtering was conducted\n",
      "on the datasets, to allow Llama 2 to be more widely usable across tasks (e.g., it can be better used for hate\n",
      "speech classification), while avoiding the potential for the accidental demographic erasure sometimes caused\n",
      "by over-scrubbing. Importantly, this allows Llama 2-Chat to generalize more effectively during safety tuning\n",
      "with fewer examples (Welbl et al., 2021; Korbak et al., 2023; Xu et al., 2021). As a result, Llama 2 models\n",
      "should be used carefully and deployed only after significant safety tuning is applied.\n",
      "Demographic Representation: Pronouns.\n",
      "Bias in model generations may result from biases inherited\n",
      "from the training data itself. For instance, Bailey et al. (2022) shows that in massive text corpora, words\n",
      "representing “people” are often used in more similar contexts to words representing “men” than to words\n",
      "representing “women,” and Ganesh et al. (2023) demonstrates that a model’s performance on fairness metrics\n",
      "can be highly dependent on how the model trains on data representing underrepresented demographic\n",
      "groups. Within our English-language training corpus, we computed the frequencies of the most common\n",
      "English pronouns in Table 9a. We observe that He pronouns are generally overrepresented in documents\n",
      "compared to She pronouns, echoing similar frequency differences observed in pronominal usage for similarly\n",
      "sized model pretraining datasets (Chowdhery et al., 2022). This could mean that the model is learning less\n",
      "during pretraining about context that mentions She pronouns, and subsequently may potentially generate He\n",
      "pronouns at a higher rate than She pronouns.\n",
      "Demographic Representation: Identities.\n",
      "We also analyze the representation of different demographic\n",
      "groups in the pretraining data by measuring rates of usage of demographic identity terms from the HolisticBias\n",
      "dataset (Smith et al., 2022) as a proxy. We compute frequencies for each descriptor term in the pretraining\n",
      "corpus. We group descriptors into 5 axes (Religion, Gender and Sex, Nationality, Race and Ethnicity, and\n",
      "Sexual Orientation), and show the top 5 terms in each axis in Table 9b. In the top 5 terms, we remove a few\n",
      "terms such as “straight,” “white,” and “black,” because these terms have frequent uses beyond demographic\n",
      "mentions (e.g., as basic color terms). We also deduplicate across lists, removing a few terms found in\n",
      "both Gender and Sex and Sexual Orientation. For Gender and Sex, while She pronouns are mentioned\n",
      "in fewer documents, the term “female” is present in a larger percentage of documents. This could imply\n",
      "that while there is less frequent context about She pronouns, comments about “females” are more prevalent,\n",
      "perhaps reflecting the differences in linguistic markedness of these terms (Blodgett et al., 2021).\n"
     ]
    }
   ],
   "source": [
    "# returns a VectorStoreQueryResult\n",
    "query_result = vector_store.query(vector_store_query)\n",
    "print(query_result.nodes[0].get_content())"
   ]
  },
  {
   "cell_type": "markdown",
   "id": "acc95f59-baf9-43e9-9e1c-2364766ad27d",
   "metadata": {},
   "source": [
    "### 3. Parse Result into a Set of Nodes"
   ]
  },
  {
   "cell_type": "code",
   "execution_count": 18,
   "id": "29bc090b-dd58-404b-8e4a-fab4ffc73861",
   "metadata": {},
   "outputs": [],
   "source": [
    "from llama_index.core.schema import NodeWithScore\n",
    "from typing import Optional\n",
    "\n",
    "nodes_with_scores = []\n",
    "for index, node in enumerate(query_result.nodes):\n",
    "    score: Optional[float] = None\n",
    "    if query_result.similarities is not None:\n",
    "        score = query_result.similarities[index]\n",
    "    nodes_with_scores.append(NodeWithScore(node=node, score=score))"
   ]
  },
  {
   "cell_type": "markdown",
   "id": "166202d8-bd61-4e66-9c5f-65745f076bc5",
   "metadata": {},
   "source": [
    "### 4. Put into a Retriever"
   ]
  },
  {
   "cell_type": "code",
   "execution_count": 19,
   "id": "2ad47605-92f2-4a80-aeba-14e703a3ddbc",
   "metadata": {},
   "outputs": [],
   "source": [
    "from llama_index.core import QueryBundle\n",
    "from llama_index.core.retrievers import BaseRetriever\n",
    "from typing import Any, List\n",
    "\n",
    "\n",
    "class VectorDBRetriever(BaseRetriever):\n",
    "    \"\"\"Retriever over a postgres vector store.\"\"\"\n",
    "\n",
    "    def __init__(\n",
    "        self,\n",
    "        vector_store: PGVectorStore,\n",
    "        embed_model: Any,\n",
    "        query_mode: str = \"default\",\n",
    "        similarity_top_k: int = 2,\n",
    "    ) -> None:\n",
    "        \"\"\"Init params.\"\"\"\n",
    "        self._vector_store = vector_store\n",
    "        self._embed_model = embed_model\n",
    "        self._query_mode = query_mode\n",
    "        self._similarity_top_k = similarity_top_k\n",
    "        super().__init__()\n",
    "\n",
    "    def _retrieve(self, query_bundle: QueryBundle) -> List[NodeWithScore]:\n",
    "        \"\"\"Retrieve.\"\"\"\n",
    "        query_embedding = embed_model.get_query_embedding(\n",
    "            query_bundle.query_str\n",
    "        )\n",
    "        vector_store_query = VectorStoreQuery(\n",
    "            query_embedding=query_embedding,\n",
    "            similarity_top_k=self._similarity_top_k,\n",
    "            mode=self._query_mode,\n",
    "        )\n",
    "        query_result = vector_store.query(vector_store_query)\n",
    "\n",
    "        nodes_with_scores = []\n",
    "        for index, node in enumerate(query_result.nodes):\n",
    "            score: Optional[float] = None\n",
    "            if query_result.similarities is not None:\n",
    "                score = query_result.similarities[index]\n",
    "            nodes_with_scores.append(NodeWithScore(node=node, score=score))\n",
    "\n",
    "        return nodes_with_scores"
   ]
  },
  {
   "cell_type": "code",
   "execution_count": 20,
   "id": "6770ba03-cf3e-4e0e-b923-188d905e784e",
   "metadata": {},
   "outputs": [],
   "source": [
    "retriever = VectorDBRetriever(\n",
    "    vector_store, embed_model, query_mode=\"default\", similarity_top_k=2\n",
    ")"
   ]
  },
  {
   "cell_type": "markdown",
   "id": "03b700b9-4bee-4dd0-858c-c49c813129b2",
   "metadata": {},
   "source": [
    "## Plug this into our RetrieverQueryEngine to synthesize a response"
   ]
  },
  {
   "cell_type": "code",
   "execution_count": 21,
   "id": "fdfb6383-560c-4d64-95ec-dba4825d64eb",
   "metadata": {},
   "outputs": [],
   "source": [
    "from llama_index.core.query_engine import RetrieverQueryEngine\n",
    "\n",
    "query_engine = RetrieverQueryEngine.from_args(retriever, llm=llm)"
   ]
  },
  {
   "cell_type": "code",
   "execution_count": 22,
   "id": "c23fd7dd-4415-42fa-8735-0c981c459a9e",
   "metadata": {},
   "outputs": [
    {
     "name": "stdout",
     "output_type": "stream",
     "text": [
      "Llama 2 70B outperforms all open-source models.\n"
     ]
    }
   ],
   "source": [
    "query_str = \"How does Llama 2 perform compared to other open-source models?\"\n",
    "\n",
    "response = query_engine.query(query_str)\n",
    "print(str(response))"
   ]
  },
  {
   "cell_type": "code",
   "execution_count": 23,
   "id": "810c7f2f-81da-431f-980b-6652ebaac084",
   "metadata": {},
   "outputs": [
    {
     "name": "stdout",
     "output_type": "stream",
     "text": [
      "Additionally, Llama 2 70B model outperforms all open-source models.\n",
      "In addition to open-source models, we also compare Llama 2 70B results to closed-source models. As shown\n",
      "in Table 4, Llama 2 70B is close to GPT-3.5 (OpenAI, 2023) on MMLU and GSM8K, but there is a significant\n",
      "gap on coding benchmarks. Llama 2 70B results are on par or better than PaLM (540B) (Chowdhery et al.,\n",
      "2022) on almost all benchmarks. There is still a large gap in performance between Llama 2 70B and GPT-4\n",
      "and PaLM-2-L.\n",
      "We also analysed the potential data contamination and share the details in Section A.6.\n",
      "Benchmark (shots)\n",
      "GPT-3.5\n",
      "GPT-4\n",
      "PaLM\n",
      "PaLM-2-L\n",
      "Llama 2\n",
      "MMLU (5-shot)\n",
      "70.0\n",
      "86.4\n",
      "69.3\n",
      "78.3\n",
      "68.9\n",
      "TriviaQA (1-shot)\n",
      "–\n",
      "–\n",
      "81.4\n",
      "86.1\n",
      "85.0\n",
      "Natural Questions (1-shot)\n",
      "–\n",
      "–\n",
      "29.3\n",
      "37.5\n",
      "33.0\n",
      "GSM8K (8-shot)\n",
      "57.1\n",
      "92.0\n",
      "56.5\n",
      "80.7\n",
      "56.8\n",
      "HumanEval (0-shot)\n",
      "48.1\n",
      "67.0\n",
      "26.2\n",
      "–\n",
      "29.9\n",
      "BIG-Bench Hard (3-shot)\n",
      "–\n",
      "–\n",
      "52.3\n",
      "65.7\n",
      "51.2\n",
      "Table 4: Comparison to closed-source models on academic benchmarks. Results for GPT-3.5 and GPT-4\n",
      "are from OpenAI (2023). Results for the PaLM model are from Chowdhery et al. (2022). Results for the\n",
      "PaLM-2-L are from Anil et al. (2023).\n",
      "3\n",
      "Fine-tuning\n",
      "Llama 2-Chat is the result of several months of research and iterative applications of alignment techniques,\n",
      "including both instruction tuning and RLHF, requiring significant computational and annotation resources.\n",
      "In this section, we report on our experiments and findings using supervised fine-tuning (Section 3.1), as\n",
      "well as initial and iterative reward modeling (Section 3.2.2) and RLHF (Section 3.2.3). We also share a\n",
      "new technique, Ghost Attention (GAtt), which we find helps control dialogue flow over multiple turns\n",
      "(Section 3.3). See Section 4.2 for safety evaluations on fine-tuned models.\n",
      "8\n"
     ]
    }
   ],
   "source": [
    "print(response.source_nodes[0].get_content())"
   ]
  }
 ],
 "metadata": {
  "kernelspec": {
   "display_name": "Python 3 (ipykernel)",
   "language": "python",
   "name": "python3"
  },
  "language_info": {
   "codemirror_mode": {
    "name": "ipython",
    "version": 3
   },
   "file_extension": ".py",
   "mimetype": "text/x-python",
   "name": "python",
   "nbconvert_exporter": "python",
   "pygments_lexer": "ipython3",
   "version": "3.10.14"
  }
 },
 "nbformat": 4,
 "nbformat_minor": 5
}
